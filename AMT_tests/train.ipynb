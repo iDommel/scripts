{
 "cells": [
  {
   "cell_type": "code",
   "execution_count": 5,
   "metadata": {},
   "outputs": [
    {
     "ename": "ImportError",
     "evalue": "cannot import name 'np_utils' from 'keras.utils' (/home/ionan/miniconda3/envs/autone/lib/python3.12/site-packages/keras/api/utils/__init__.py)",
     "output_type": "error",
     "traceback": [
      "\u001b[0;31m---------------------------------------------------------------------------\u001b[0m",
      "\u001b[0;31mImportError\u001b[0m                               Traceback (most recent call last)",
      "Cell \u001b[0;32mIn[5], line 13\u001b[0m\n\u001b[1;32m     11\u001b[0m \u001b[38;5;66;03m# Import keras main libraries\u001b[39;00m\n\u001b[1;32m     12\u001b[0m \u001b[38;5;28;01mfrom\u001b[39;00m \u001b[38;5;21;01mkeras\u001b[39;00m\u001b[38;5;21;01m.\u001b[39;00m\u001b[38;5;21;01mpreprocessing\u001b[39;00m \u001b[38;5;28;01mimport\u001b[39;00m sequence\n\u001b[0;32m---> 13\u001b[0m \u001b[38;5;28;01mfrom\u001b[39;00m \u001b[38;5;21;01mkeras\u001b[39;00m\u001b[38;5;21;01m.\u001b[39;00m\u001b[38;5;21;01mutils\u001b[39;00m \u001b[38;5;28;01mimport\u001b[39;00m np_utils\n\u001b[1;32m     14\u001b[0m \u001b[38;5;28;01mfrom\u001b[39;00m \u001b[38;5;21;01mkeras\u001b[39;00m\u001b[38;5;21;01m.\u001b[39;00m\u001b[38;5;21;01mmodels\u001b[39;00m \u001b[38;5;28;01mimport\u001b[39;00m Sequential\n\u001b[1;32m     15\u001b[0m \u001b[38;5;28;01mfrom\u001b[39;00m \u001b[38;5;21;01mkeras\u001b[39;00m\u001b[38;5;21;01m.\u001b[39;00m\u001b[38;5;21;01mlayers\u001b[39;00m \u001b[38;5;28;01mimport\u001b[39;00m Dense, Dropout, Activation\n",
      "\u001b[0;31mImportError\u001b[0m: cannot import name 'np_utils' from 'keras.utils' (/home/ionan/miniconda3/envs/autone/lib/python3.12/site-packages/keras/api/utils/__init__.py)"
     ]
    }
   ],
   "source": [
    "'''###### TRAIN 1: DNN - 3 layers - 150 unis per layer ######'''\n",
    "\n",
    "import numpy as np\n",
    "import os\n",
    "import os.path\n",
    "import sys\n",
    "\n",
    "# We need to set the random seed so that we get ther same results with the same parameters\n",
    "np.random.seed(400)\n",
    "\n",
    "# Import keras main libraries\n",
    "from keras.preprocessing import sequence\n",
    "from keras.utils import np_utils\n",
    "from keras.models import Sequential\n",
    "from keras.layers import Dense, Dropout, Activation\n",
    "from keras.regularizers import l2\n",
    "from keras import callbacks\n",
    "from keras.callbacks import History, ModelCheckpoint, EarlyStopping\n",
    "\n",
    "mini_batch_size, num_epochs = 100, 1000\n",
    "input_size = 252\n",
    "number_units = 256\n",
    "number_layers = 3\n",
    "number_classes = 88\n",
    "best_accuracy = 0\n",
    "contador_bad = 0\n"
   ]
  },
  {
   "cell_type": "code",
   "execution_count": null,
   "metadata": {},
   "outputs": [],
   "source": [
    "\n",
    "#Arg inputs\n",
    "data_directory = \"/home/ionan/dev/data/processed_MUS/processed_split/\"\n",
    "weights_dir = \"/home/ionan/dev/data/processed_MUS/processed_split/weights/\"\n"
   ]
  },
  {
   "cell_type": "code",
   "execution_count": null,
   "metadata": {},
   "outputs": [],
   "source": [
    "print 'Build model...'\n",
    "model = Sequential()\n",
    "history = History()\n",
    "\n",
    "print 'Load validation data...'\n",
    "X_val = np.load(data_directory + \"train_va/\" + str(0) + \"train_va_X.npy\" )\n",
    "y_val = np.load(data_directory + \"train_va/\" + str(0) + \"train_va_y.npy\" )\n",
    "\n",
    "# Count the number of files in the training folder\n",
    "num_tr_batches = len([name for name in os.listdir(data_directory + \"train_tr/\")])/2\n",
    "\n",
    "print 'Loading all data'\n",
    "for i in range(num_tr_batches):\n",
    "    print \"Batching...\" + str(i) + \"train_tr_X.npy\"\n",
    "    X_train = np.array(np.load(data_directory + \"train_tr/\" + str(i) + \"train_tr_X.npy\" ))\n",
    "    y_train = np.array(np.load(data_directory + \"train_tr/\" + str(i) + \"train_tr_y.npy\" ))\n",
    "    if i == 0:\n",
    "        X = X_train\n",
    "        y = y_train\n",
    "    else:\n",
    "        X = np.concatenate((X,X_train), axis = 0)\n",
    "        y = np.concatenate((y,y_train), axis = 0)\n",
    "\n",
    "print X.shape\n",
    "print \"Adding 1st layer of {} units\".format(number_units)\n",
    "model.add(Dense(number_units, input_shape=(input_size,), kernel_initializer='normal', activation='relu'))\n",
    "model.add(Dropout(0.2))\n",
    "for i in range(number_layers-1):\n",
    "    print \"Adding %d\" % (i+2) + \"th layer of %d\" % number_units + \" units\"\n",
    "    model.add(Dense(number_units, kernel_initializer='normal', activation='relu'))\n",
    "    model.add(Dropout(0.2))\n",
    "\n",
    "print \" Adding classification layer\"\n",
    "model.add(Dense(number_classes, kernel_initializer='normal', activation='sigmoid'))\n",
    "\n",
    "# Compile model\n",
    "model.compile(loss='mean_squared_error', optimizer='adam', metrics=['mean_squared_error'])\n",
    "\n",
    "checkpointer = ModelCheckpoint(filepath= weights_dir + \"weights.hdf5\", verbose=1, save_best_only=False)\n",
    "early = EarlyStopping(monitor='val_loss', min_delta=0, patience=20, verbose=1, mode='auto')\n",
    "\n",
    "training_log = open(weights_dir + \"Training.log\", \"w\")\n",
    "print 'Train . . .'\n",
    "# let's say you have an ImageNet generat        print \"Fitting the batch :\"\n",
    "save = model.fit(X, y,batch_size=mini_batch_size,epochs = num_epochs,validation_data=(X_val, y_val),verbose=1,callbacks=[checkpointer,early])\n",
    "training_log.write(str(save.history) + \"\\n\")\n",
    "training_log.close()\n"
   ]
  }
 ],
 "metadata": {
  "kernelspec": {
   "display_name": "Python 3",
   "language": "python",
   "name": "python3"
  },
  "language_info": {
   "codemirror_mode": {
    "name": "ipython",
    "version": 3
   },
   "file_extension": ".py",
   "mimetype": "text/x-python",
   "name": "python",
   "nbconvert_exporter": "python",
   "pygments_lexer": "ipython3",
   "version": "3.12.2"
  }
 },
 "nbformat": 4,
 "nbformat_minor": 2
}
