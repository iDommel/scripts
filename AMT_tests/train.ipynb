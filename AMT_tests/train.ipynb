{
 "cells": [
  {
   "cell_type": "code",
   "execution_count": 1,
   "metadata": {},
   "outputs": [
    {
     "name": "stderr",
     "output_type": "stream",
     "text": [
      "2024-09-11 13:11:09.363341: I tensorflow/core/platform/cpu_feature_guard.cc:182] This TensorFlow binary is optimized to use available CPU instructions in performance-critical operations.\n",
      "To enable the following instructions: SSE4.1 SSE4.2 AVX AVX2 FMA, in other operations, rebuild TensorFlow with the appropriate compiler flags.\n"
     ]
    }
   ],
   "source": [
    "'''###### TRAIN 1: DNN - 3 layers - 150 unis per layer ######'''\n",
    "\n",
    "import numpy as np\n",
    "import os\n",
    "import os.path\n",
    "import sys\n",
    "\n",
    "# We need to set the random seed so that we get ther same results with the same parameters\n",
    "np.random.seed(400)\n",
    "\n",
    "# Import keras main libraries\n",
    "from keras.preprocessing import sequence\n",
    "from keras.utils import np_utils\n",
    "from keras.models import Sequential\n",
    "from keras.layers import Dense, Dropout, Activation\n",
    "from keras.regularizers import l2\n",
    "from keras import callbacks\n",
    "from keras.callbacks import History, ModelCheckpoint, EarlyStopping\n",
    "\n",
    "mini_batch_size, num_epochs = 100, 1000\n",
    "input_size = 252\n",
    "number_units = 256\n",
    "number_layers = 3\n",
    "number_classes = 88\n",
    "best_accuracy = 0\n",
    "contador_bad = 0\n"
   ]
  },
  {
   "cell_type": "code",
   "execution_count": 2,
   "metadata": {},
   "outputs": [],
   "source": [
    "\n",
    "#Arg inputs\n",
    "data_directory = \"/home/ionan/dev/data/processed_MUS/processed_split/\"\n",
    "weights_dir = \"/home/ionan/dev/data/processed_MUS/processed_split/weights/\"\n"
   ]
  },
  {
   "cell_type": "code",
   "execution_count": 6,
   "metadata": {},
   "outputs": [
    {
     "name": "stderr",
     "output_type": "stream",
     "text": [
      "2024-09-11 13:12:21.159511: I tensorflow/core/common_runtime/process_util.cc:146] Creating new thread pool with default inter op setting: 2. Tune using inter_op_parallelism_threads for best performance.\n"
     ]
    },
    {
     "name": "stdout",
     "output_type": "stream",
     "text": [
      "Load validation data...\n"
     ]
    },
    {
     "ename": "FileNotFoundError",
     "evalue": "[Errno 2] No such file or directory: '/home/ionan/dev/data/processed_MUS/processed_split/train_va/0train_va_X.npy'",
     "output_type": "error",
     "traceback": [
      "\u001b[0;31m---------------------------------------------------------------------------\u001b[0m",
      "\u001b[0;31mFileNotFoundError\u001b[0m                         Traceback (most recent call last)",
      "Cell \u001b[0;32mIn[6], line 5\u001b[0m\n\u001b[1;32m      2\u001b[0m history \u001b[38;5;241m=\u001b[39m History()\n\u001b[1;32m      4\u001b[0m \u001b[38;5;28mprint\u001b[39m (\u001b[38;5;124m'\u001b[39m\u001b[38;5;124mLoad validation data...\u001b[39m\u001b[38;5;124m'\u001b[39m)\n\u001b[0;32m----> 5\u001b[0m X_val \u001b[38;5;241m=\u001b[39m \u001b[43mnp\u001b[49m\u001b[38;5;241;43m.\u001b[39;49m\u001b[43mload\u001b[49m\u001b[43m(\u001b[49m\u001b[43mdata_directory\u001b[49m\u001b[43m \u001b[49m\u001b[38;5;241;43m+\u001b[39;49m\u001b[43m \u001b[49m\u001b[38;5;124;43m\"\u001b[39;49m\u001b[38;5;124;43mtrain_va/\u001b[39;49m\u001b[38;5;124;43m\"\u001b[39;49m\u001b[43m \u001b[49m\u001b[38;5;241;43m+\u001b[39;49m\u001b[43m \u001b[49m\u001b[38;5;28;43mstr\u001b[39;49m\u001b[43m(\u001b[49m\u001b[38;5;241;43m0\u001b[39;49m\u001b[43m)\u001b[49m\u001b[43m \u001b[49m\u001b[38;5;241;43m+\u001b[39;49m\u001b[43m \u001b[49m\u001b[38;5;124;43m\"\u001b[39;49m\u001b[38;5;124;43mtrain_va_X.npy\u001b[39;49m\u001b[38;5;124;43m\"\u001b[39;49m\u001b[43m \u001b[49m\u001b[43m)\u001b[49m\n\u001b[1;32m      6\u001b[0m y_val \u001b[38;5;241m=\u001b[39m np\u001b[38;5;241m.\u001b[39mload(data_directory \u001b[38;5;241m+\u001b[39m \u001b[38;5;124m\"\u001b[39m\u001b[38;5;124mtrain_va/\u001b[39m\u001b[38;5;124m\"\u001b[39m \u001b[38;5;241m+\u001b[39m \u001b[38;5;28mstr\u001b[39m(\u001b[38;5;241m0\u001b[39m) \u001b[38;5;241m+\u001b[39m \u001b[38;5;124m\"\u001b[39m\u001b[38;5;124mtrain_va_y.npy\u001b[39m\u001b[38;5;124m\"\u001b[39m )\n\u001b[1;32m      8\u001b[0m \u001b[38;5;66;03m# Count the number of files in the training folder\u001b[39;00m\n",
      "File \u001b[0;32m~/miniconda3/envs/autone/lib/python3.10/site-packages/numpy/lib/npyio.py:405\u001b[0m, in \u001b[0;36mload\u001b[0;34m(file, mmap_mode, allow_pickle, fix_imports, encoding, max_header_size)\u001b[0m\n\u001b[1;32m    403\u001b[0m     own_fid \u001b[38;5;241m=\u001b[39m \u001b[38;5;28;01mFalse\u001b[39;00m\n\u001b[1;32m    404\u001b[0m \u001b[38;5;28;01melse\u001b[39;00m:\n\u001b[0;32m--> 405\u001b[0m     fid \u001b[38;5;241m=\u001b[39m stack\u001b[38;5;241m.\u001b[39menter_context(\u001b[38;5;28;43mopen\u001b[39;49m\u001b[43m(\u001b[49m\u001b[43mos_fspath\u001b[49m\u001b[43m(\u001b[49m\u001b[43mfile\u001b[49m\u001b[43m)\u001b[49m\u001b[43m,\u001b[49m\u001b[43m \u001b[49m\u001b[38;5;124;43m\"\u001b[39;49m\u001b[38;5;124;43mrb\u001b[39;49m\u001b[38;5;124;43m\"\u001b[39;49m\u001b[43m)\u001b[49m)\n\u001b[1;32m    406\u001b[0m     own_fid \u001b[38;5;241m=\u001b[39m \u001b[38;5;28;01mTrue\u001b[39;00m\n\u001b[1;32m    408\u001b[0m \u001b[38;5;66;03m# Code to distinguish from NumPy binary files and pickles.\u001b[39;00m\n",
      "\u001b[0;31mFileNotFoundError\u001b[0m: [Errno 2] No such file or directory: '/home/ionan/dev/data/processed_MUS/processed_split/train_va/0train_va_X.npy'"
     ]
    }
   ],
   "source": [
    "model = Sequential()\n",
    "history = History()\n",
    "\n",
    "print ('Load validation data...')\n",
    "X_val = np.load(data_directory + \"train_va/\" + str(0) + \"train_va_X.npy\" )\n",
    "y_val = np.load(data_directory + \"train_va/\" + str(0) + \"train_va_y.npy\" )\n",
    "\n",
    "# Count the number of files in the training folder\n",
    "num_tr_batches = len([name for name in os.listdir(data_directory + \"train_tr/\")])/2\n",
    "\n",
    "print ('Loading all data')\n",
    "for i in range(num_tr_batches):\n",
    "    print (\"Batching...\" + str(i) + \"train_tr_X.npy\")\n",
    "    X_train = np.array(np.load(data_directory + \"train_tr/\" + str(i) + \"train_tr_X.npy\" ))\n",
    "    y_train = np.array(np.load(data_directory + \"train_tr/\" + str(i) + \"train_tr_y.npy\" ))\n",
    "    if i == 0:\n",
    "        X = X_train\n",
    "        y = y_train\n",
    "    else:\n",
    "        X = np.concatenate((X,X_train), axis = 0)\n",
    "        y = np.concatenate((y,y_train), axis = 0)\n",
    "\n",
    "print (X.shape)\n",
    "print (\"Adding 1st layer of {} units\".format(number_units))\n",
    "model.add(Dense(number_units, input_shape=(input_size,), kernel_initializer='normal', activation='relu'))\n",
    "model.add(Dropout(0.2))\n",
    "for i in range(number_layers-1):\n",
    "    print (\"Adding %d\" % (i+2) + \"th layer of %d\" % number_units + \" units\")\n",
    "    model.add(Dense(number_units, kernel_initializer='normal', activation='relu'))\n",
    "    model.add(Dropout(0.2))\n",
    "\n",
    "print (\" Adding classification layer\")\n",
    "model.add(Dense(number_classes, kernel_initializer='normal', activation='sigmoid'))\n",
    "\n",
    "# Compile model\n",
    "model.compile(loss='mean_squared_error', optimizer='adam', metrics=['mean_squared_error'])\n",
    "\n",
    "checkpointer = ModelCheckpoint(filepath= weights_dir + \"weights.hdf5\", verbose=1, save_best_only=False)\n",
    "early = EarlyStopping(monitor='val_loss', min_delta=0, patience=20, verbose=1, mode='auto')\n",
    "\n",
    "training_log = open(weights_dir + \"Training.log\", \"w\")\n",
    "print ('Train . . .')\n",
    "# let's say you have an ImageNet generat        print \"Fitting the batch :\"\n",
    "save = model.fit(X, y,batch_size=mini_batch_size,epochs = num_epochs,validation_data=(X_val, y_val),verbose=1,callbacks=[checkpointer,early])\n",
    "training_log.write(str(save.history) + \"\\n\")\n",
    "training_log.close()\n"
   ]
  }
 ],
 "metadata": {
  "kernelspec": {
   "display_name": "Python 3",
   "language": "python",
   "name": "python3"
  },
  "language_info": {
   "codemirror_mode": {
    "name": "ipython",
    "version": 3
   },
   "file_extension": ".py",
   "mimetype": "text/x-python",
   "name": "python",
   "nbconvert_exporter": "python",
   "pygments_lexer": "ipython3",
   "version": "3.10.13"
  }
 },
 "nbformat": 4,
 "nbformat_minor": 2
}
